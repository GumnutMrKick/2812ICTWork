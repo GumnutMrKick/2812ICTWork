{
 "cells": [
  {
   "cell_type": "code",
   "execution_count": 1,
   "id": "e823e6f1",
   "metadata": {},
   "outputs": [],
   "source": [
    "import cv2\n",
    "import numpy as np\n",
    "from IPython import display\n",
    "\n",
    "# load in image\n",
    "img = cv.imread(\"left01.jpg\", cv.IMREAD_GRAYSCALE)\n",
    "\n",
    "# question 1\n",
    "\n",
    "\n",
    "\n",
    "\n",
    "\n",
    "\n",
    "\n",
    "\n",
    "\n",
    "\n",
    "\n"
   ]
  },
  {
   "cell_type": "code",
   "execution_count": null,
   "id": "2b4e4115",
   "metadata": {},
   "outputs": [],
   "source": [
    "# question 2\n",
    "\n",
    "# type set\n",
    "q2 = np.float32(img)\n",
    "\n",
    "dst = cv2.cornerHarris(q2,2,3,0.04)\n",
    "\n",
    "# dilate for marking the corners\n",
    "dst = cv2.dilate(dst, None)\n",
    "\n",
    "# Threshold for an optimal value, it may vary depending on the image.\n",
    "img[dst>0.01*dst.max()]=[0,0,255]\n",
    "\n",
    "# save\n",
    "cv.imwrite(\"q2.png\", img)\n",
    "\n",
    "# display\n",
    "print(\"question 2\")\n",
    "\n",
    "display.Image(\"q2.png\")\n",
    "\n",
    "\n",
    "\n",
    "\n",
    "\n",
    "# question 3\n",
    "\n",
    "\n"
   ]
  }
 ],
 "metadata": {
  "kernelspec": {
   "display_name": "Python 3",
   "language": "python",
   "name": "python3"
  },
  "language_info": {
   "codemirror_mode": {
    "name": "ipython",
    "version": 3
   },
   "file_extension": ".py",
   "mimetype": "text/x-python",
   "name": "python",
   "nbconvert_exporter": "python",
   "pygments_lexer": "ipython3",
   "version": "3.8.8"
  }
 },
 "nbformat": 4,
 "nbformat_minor": 5
}
