{
 "cells": [
  {
   "cell_type": "code",
   "execution_count": 27,
   "id": "5eb227ba",
   "metadata": {},
   "outputs": [
    {
     "name": "stdout",
     "output_type": "stream",
     "text": [
      "left12\n",
      "Untitled\n"
     ]
    }
   ],
   "source": [
    "import numpy as np\n",
    "import cv2\n",
    "import glob\n",
    "\n",
    "images = glob.glob('*.jpg')\n",
    "\n",
    "for fname in images:\n",
    "    \n",
    "    img = cv2.imread(fname)\n",
    "    \n",
    "    kernel = np.array([[1, 2, 1],\n",
    "                    [2, 4, 2],\n",
    "                    [1, 2, 1]])\n",
    "    blur = cv2.filter2D(img, 3, kernel)\n",
    "    \n",
    "    name = fname.split('.')[0]\n",
    "    print(name)\n",
    "    name = fname[:-4]\n",
    "    \n",
    "    \n",
    "    \n",
    "    #cv2.imshow('gaussian', img)\n",
    "    cv2.imshow('gaussian', blur)\n",
    "    cv2.imwrite(name + '.jpg', blur)\n",
    "    cv2.waitKey(4000)\n",
    "cv2.destroyAllWindows()\n",
    "    \n",
    "\n",
    "\n"
   ]
  },
  {
   "cell_type": "code",
   "execution_count": null,
   "id": "543c180f",
   "metadata": {},
   "outputs": [],
   "source": [
    "# load images\n",
    "img = cv2.imread(\"left12.jpg\")\n",
    "\n",
    "# display orginal\n",
    "cv2.imshow('orginal', img)\n",
    "\n",
    "kernel1 = cv2.getGaussianKernel(3, 10)\n",
    "cv2.getGaussianKernel(3, 10)\n",
    "\n",
    "kernel2 = \n",
    "print(kernel1)\n",
    "print(kernel2)\n",
    "\n",
    "# peform gaussian filter\n",
    "gaussian = cv2.filter2D(img, 8, kernel1)\n",
    "\n",
    "\n",
    "cv2.imshow('gaussian', gaussian)\n",
    "cv2.waitKey(4000)\n",
    "\n",
    "# task \n",
    "\n",
    "# destroy windows\n",
    "cv2.destroyAllWindows()\n",
    "\n",
    "kernel = np.ones((3,3))\n",
    "\n",
    "print(kernel)\n",
    "print(kernel1)\n",
    "gray = cv2.cvtColor(img, cv2.COLOR_BGR2GRAY)\n",
    "    # Find the chess board corners\n",
    "    ret, corners = cv2.findChessboardCorners(gray, (7,6), None)\n",
    "    # If found, add object points, image points (after refining them)\n",
    "    if ret == True:\n",
    "        objpoints.append(objp)\n",
    "        corners2=cv2.cornerSubPix(gray,corners, (11,11), (-1,-1), criteria)\n",
    "        imgpoints.append(corners)\n",
    "        # Draw and display the corners\n",
    "        cv2.drawChessboardCorners(img, (7,6), corners2, ret)\n",
    "        cv2.imshow('img', img)\n",
    "        cv2.waitKey(10000)\n",
    "cv2.destroyAllWindows()"
   ]
  },
  {
   "cell_type": "code",
   "execution_count": null,
   "id": "e131ff37",
   "metadata": {},
   "outputs": [],
   "source": [
    "\n",
    "# termination criteria\n",
    "criteria = (cv2.TERM_CRITERIA_EPS + cv2.TERM_CRITERIA_MAX_ITER, 30, 0.001)\n",
    "# prepare object points, like (0,0,0), (1,0,0), (2,0,0) ....,(6,5,0)\n",
    "objp = np.zeros((6*7,3), np.float32)\n",
    "objp[:,:2] = np.mgrid[0:7,0:6].T.reshape(-1,2)\n",
    "# Arrays to store object points and image points from all the images.\n",
    "objpoints = [] # 3d point in real world space\n",
    "imgpoints = [] # 2d points in image plane.\n",
    "\n",
    "images = glob.glob('*.jpg')\n",
    "\n",
    "for fname in images:\n",
    "    img = cv2.imread(fname)\n",
    "    gray = cv2.cvtColor(img, cv2.COLOR_BGR2GRAY)\n",
    "    # Find the chess board corners\n",
    "    ret, corners = cv2.findChessboardCorners(gray, (7,6), None)\n",
    "    # If found, add object points, image points (after refining them)\n",
    "    if ret == True:\n",
    "        objpoints.append(objp)\n",
    "        corners2=cv2.cornerSubPix(gray,corners, (11,11), (-1,-1), criteria)\n",
    "        imgpoints.append(corners)\n",
    "        # Draw and display the corners\n",
    "        cv2.drawChessboardCorners(img, (7,6), corners2, ret)\n",
    "        cv2.imshow('img', img)\n",
    "        cv2.waitKey(10000)\n",
    "cv2.destroyAllWindows()"
   ]
  }
 ],
 "metadata": {
  "kernelspec": {
   "display_name": "Python 3",
   "language": "python",
   "name": "python3"
  },
  "language_info": {
   "codemirror_mode": {
    "name": "ipython",
    "version": 3
   },
   "file_extension": ".py",
   "mimetype": "text/x-python",
   "name": "python",
   "nbconvert_exporter": "python",
   "pygments_lexer": "ipython3",
   "version": "3.8.8"
  }
 },
 "nbformat": 4,
 "nbformat_minor": 5
}
